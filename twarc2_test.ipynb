{
 "cells": [
  {
   "cell_type": "markdown",
   "metadata": {},
   "source": [
    "# twarc2"
   ]
  },
  {
   "cell_type": "markdown",
   "metadata": {},
   "source": [
    "[`twarc2`](https://twarc-project.readthedocs.io/en/latest/twarc2/) is the newest version of the `Python` library [`twarc`](https://twarc-project.readthedocs.io/en/latest/) offering a command line tool that allows you to collect data from the Twitter V2 API. The library is created and maintained by [*Documenting the Now*](https://www.docnow.io/) who have also created a [short tutorial video for `twarc 2`](https://www.youtube.com/watch?v=t1kT719vxlQ)."
   ]
  },
  {
   "cell_type": "markdown",
   "metadata": {},
   "source": [
    "Once the library has been installed (typically via `pip install twarc`), you can use `twarc` as a [command line](https://en.wikipedia.org/wiki/Command-line_interface) tool."
   ]
  },
  {
   "cell_type": "markdown",
   "metadata": {},
   "source": [
    "**NB**: The `twarc` command line tool uses [`Bash`](https://en.wikipedia.org/wiki/Bash_(Unix_shell)) commands and these only work on Unix-based operating systems (MacOS or Linux). If you want to use `twarc` locally on Windows machines, you can either do so via `Python` (which you need anyway to install the library) or you can use the [Windows subsystem for Linux](https://en.wikipedia.org/wiki/Windows_Subsystem_for_Linux) or set up a [virtual machine with Linux as OS](https://itsfoss.com/install-linux-in-virtualbox/)."
   ]
  },
  {
   "cell_type": "markdown",
   "metadata": {},
   "source": [
    "`twarc` offers many more functionalities and options than the ones demonstrated in this notebook. You can find more information on those in the [official documentation of the library](https://twarc-project.readthedocs.io/en/latest/twarc2/) (which the examples in this notebook are also based on)."
   ]
  },
  {
   "cell_type": "markdown",
   "metadata": {},
   "source": [
    "## Get followers"
   ]
  },
  {
   "cell_type": "markdown",
   "metadata": {},
   "source": [
    "Get the followers of a specific user (here: gesis_org) and store them in a `json` file."
   ]
  },
  {
   "cell_type": "code",
   "execution_count": null,
   "metadata": {},
   "outputs": [],
   "source": [
    "twarc2 --bearer-token my_bearer_token followers gesis_org gesis_followers_twarc.json"
   ]
  },
  {
   "cell_type": "markdown",
   "metadata": {},
   "source": [
    "*Note*: If you use `twarc` outside of `Jupyter` notebooks, you can also set up your API access credentials interactively (via `twarc2 configure`). That way you do not have to provide the bearer token as an option with every command."
   ]
  },
  {
   "cell_type": "markdown",
   "metadata": {},
   "source": [
    "## Get followed accounts"
   ]
  },
  {
   "cell_type": "markdown",
   "metadata": {},
   "source": [
    "Get information on the accounts a user (in this example: gesis_org) follows and store them in a `json` file."
   ]
  },
  {
   "cell_type": "code",
   "execution_count": null,
   "metadata": {},
   "outputs": [],
   "source": [
    "twarc2 --bearer-token my_bearer_token following gesis_org gesis_following_twarc.json"
   ]
  },
  {
   "cell_type": "markdown",
   "metadata": {},
   "source": [
    "## Retrieve user tweets"
   ]
  },
  {
   "cell_type": "markdown",
   "metadata": {},
   "source": [
    "In this example, we retrieve the 100 most recent tweets from the GESIS account and store them in a `json` file."
   ]
  },
  {
   "cell_type": "code",
   "execution_count": null,
   "metadata": {},
   "outputs": [],
   "source": [
    "twarc2 --bearer-token my_bearer_token timeline --limit 100 gesis_org gesis_tweets_twarc.json"
   ]
  },
  {
   "cell_type": "markdown",
   "metadata": {},
   "source": [
    "## Convert tweets to `CSV`"
   ]
  },
  {
   "cell_type": "markdown",
   "metadata": {},
   "source": [
    "`twarc` offers several [plugins](https://twarc-project.readthedocs.io/en/latest/plugins/) which need to be installed separately. One of those, called [twarc-csv](https://pypi.org/project/twarc-csv/), allows to easily convert a `json` file containing tweets data into a `csv` file."
   ]
  },
  {
   "cell_type": "code",
   "execution_count": null,
   "metadata": {},
   "outputs": [],
   "source": [
    "twarc2 --bearer-token my_bearer_token csv gesis_tweets_twarc.json gesis_tweets_twarc.csv"
   ]
  }
 ],
"metadata": {
  "kernelspec": {
   "display_name": "Bash",
   "language": "bash",
   "name": "bash"
  },
  "language_info": {
   "codemirror_mode": "shell",
   "file_extension": ".sh",
   "mimetype": "text/x-sh",
   "name": "bash"
  }
 },
 "nbformat": 4,
 "nbformat_minor": 4
}
